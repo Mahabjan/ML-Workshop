{
  "nbformat": 4,
  "nbformat_minor": 0,
  "metadata": {
    "colab": {
      "provenance": [],
      "authorship_tag": "ABX9TyPJl3Iu1zTauG43arZwD5Xm",
      "include_colab_link": true
    },
    "kernelspec": {
      "name": "python3",
      "display_name": "Python 3"
    },
    "language_info": {
      "name": "python"
    }
  },
  "cells": [
    {
      "cell_type": "markdown",
      "metadata": {
        "id": "view-in-github",
        "colab_type": "text"
      },
      "source": [
        "<a href=\"https://colab.research.google.com/github/Mahabjan/ML-Workshop/blob/main/Assignment6_Regression.ipynb\" target=\"_parent\"><img src=\"https://colab.research.google.com/assets/colab-badge.svg\" alt=\"Open In Colab\"/></a>"
      ]
    },
    {
      "cell_type": "code",
      "execution_count": 8,
      "metadata": {
        "id": "7QejQCpVMn-o"
      },
      "outputs": [],
      "source": [
        "import pandas as pd\n",
        "from sklearn.model_selection import train_test_split\n",
        "from sklearn.preprocessing import OneHotEncoder\n",
        "file_path = '/content/50_Startups.csv'\n",
        "data = pd.read_csv(file_path)\n",
        "data = pd.get_dummies(data, columns=['State'], drop_first=True)\n",
        "X = data.drop('Profit', axis=1)\n",
        "y = data['Profit']\n",
        "X_train, X_test, y_train, y_test = train_test_split(X, y, test_size=0.2, random_state=42)"
      ]
    },
    {
      "cell_type": "code",
      "source": [
        "from sklearn.linear_model import LinearRegression\n",
        "from sklearn.metrics import mean_absolute_error, mean_squared_error, r2_score\n",
        "import numpy as np\n",
        "linear_model = LinearRegression()\n",
        "linear_model.fit(X_train, y_train)\n",
        "y_pred = linear_model.predict(X_test)\n",
        "mae = mean_absolute_error(y_test, y_pred)\n",
        "mse = mean_squared_error(y_test, y_pred)\n",
        "rmse = np.sqrt(mse)\n",
        "r2 = r2_score(y_test, y_pred)\n",
        "print(\"No Regularization:\")\n",
        "print(f\"MAE: {mae}, MSE: {mse}, RMSE: {rmse}, R2 Score: {r2}\")"
      ],
      "metadata": {
        "colab": {
          "base_uri": "https://localhost:8080/"
        },
        "id": "E3FSOEDkNDRr",
        "outputId": "645f6dfc-8c44-4f18-a222-02109bb86735"
      },
      "execution_count": 10,
      "outputs": [
        {
          "output_type": "stream",
          "name": "stdout",
          "text": [
            "No Regularization (Simple Linear Regression):\n",
            "MAE: 6961.477813252376, MSE: 82010363.04430099, RMSE: 9055.957323458464, R2 Score: 0.8987266414328637\n"
          ]
        }
      ]
    },
    {
      "cell_type": "code",
      "source": [
        "from sklearn.linear_model import Lasso\n",
        "lasso_model = Lasso(alpha=0.5)\n",
        "lasso_model.fit(X_train, y_train)\n",
        "y_pred_lasso = lasso_model.predict(X_test)\n",
        "mae = mean_absolute_error(y_test, y_pred_lasso)\n",
        "mse = mean_squared_error(y_test, y_pred_lasso)\n",
        "rmse = np.sqrt(mse)\n",
        "r2 = r2_score(y_test, y_pred_lasso)\n",
        "print(\"Lasso Regression:\")\n",
        "print(f\"MAE: {mae}, MSE: {mse}, RMSE: {rmse}, R2 Score: {r2}\")"
      ],
      "metadata": {
        "colab": {
          "base_uri": "https://localhost:8080/"
        },
        "id": "1lZEEPo-NLtY",
        "outputId": "24a1491f-2941-4039-d12c-93ae4cc90e20"
      },
      "execution_count": 13,
      "outputs": [
        {
          "output_type": "stream",
          "name": "stdout",
          "text": [
            "Lasso Regression:\n",
            "MAE: 6961.528099299064, MSE: 82007280.54873629, RMSE: 9055.787130268483, R2 Score: 0.898730447960076\n"
          ]
        }
      ]
    },
    {
      "cell_type": "code",
      "source": [
        "from sklearn.linear_model import Ridge\n",
        "ridge_model = Ridge(alpha=0.5)\n",
        "ridge_model.fit(X_train, y_train)\n",
        "y_pred_ridge = ridge_model.predict(X_test)\n",
        "mae = mean_absolute_error(y_test, y_pred_ridge)\n",
        "mse = mean_squared_error(y_test, y_pred_ridge)\n",
        "rmse = np.sqrt(mse)\n",
        "r2 = r2_score(y_test, y_pred_ridge)\n",
        "print(\"Ridge Regression :\")\n",
        "print(f\"MAE: {mae}, MSE: {mse}, RMSE: {rmse}, R2 Score: {r2}\")"
      ],
      "metadata": {
        "colab": {
          "base_uri": "https://localhost:8080/"
        },
        "id": "kMstOFybNX9m",
        "outputId": "25c0d4e4-7302-4d40-a489-2972e0203002"
      },
      "execution_count": 12,
      "outputs": [
        {
          "output_type": "stream",
          "name": "stdout",
          "text": [
            "Ridge Regression :\n",
            "MAE: 6962.478036727072, MSE: 81944071.35894564, RMSE: 9052.296468794293, R2 Score: 0.8988085040337814\n"
          ]
        }
      ]
    }
  ]
}