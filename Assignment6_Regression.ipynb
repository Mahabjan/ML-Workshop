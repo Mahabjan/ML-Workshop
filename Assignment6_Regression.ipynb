{
  "nbformat": 4,
  "nbformat_minor": 0,
  "metadata": {
    "colab": {
      "provenance": [],
      "authorship_tag": "ABX9TyOG1L6BG6R7VeOiYNSWS22d",
      "include_colab_link": true
    },
    "kernelspec": {
      "name": "python3",
      "display_name": "Python 3"
    },
    "language_info": {
      "name": "python"
    }
  },
  "cells": [
    {
      "cell_type": "markdown",
      "metadata": {
        "id": "view-in-github",
        "colab_type": "text"
      },
      "source": [
        "<a href=\"https://colab.research.google.com/github/Mahabjan/ML-Workshop/blob/main/Assignment6_Regression.ipynb\" target=\"_parent\"><img src=\"https://colab.research.google.com/assets/colab-badge.svg\" alt=\"Open In Colab\"/></a>"
      ]
    },
    {
      "cell_type": "code",
      "execution_count": 8,
      "metadata": {
        "id": "7QejQCpVMn-o"
      },
      "outputs": [],
      "source": [
        "import pandas as pd\n",
        "from sklearn.model_selection import train_test_split\n",
        "from sklearn.preprocessing import OneHotEncoder\n",
        "file_path = '/content/50_Startups.csv'\n",
        "data = pd.read_csv(file_path)\n",
        "data = pd.get_dummies(data, columns=['State'], drop_first=True)\n",
        "X = data.drop('Profit', axis=1)\n",
        "y = data['Profit']\n",
        "X_train, X_test, y_train, y_test = train_test_split(X, y, test_size=0.2, random_state=42)"
      ]
    },
    {
      "cell_type": "code",
      "source": [
        "from sklearn.linear_model import LinearRegression\n",
        "from sklearn.metrics import mean_absolute_error, mean_squared_error, r2_score\n",
        "import numpy as np\n",
        "linear_model = LinearRegression()\n",
        "linear_model.fit(X_train, y_train)\n",
        "y_pred = linear_model.predict(X_test)\n",
        "mae = mean_absolute_error(y_test, y_pred)\n",
        "mse = mean_squared_error(y_test, y_pred)\n",
        "rmse = np.sqrt(mse)\n",
        "r2 = r2_score(y_test, y_pred)\n",
        "print(\"No Regularization:\")\n",
        "print(f\"MAE: {mae}, MSE: {mse}, RMSE: {rmse}, R2 Score: {r2}\")"
      ],
      "metadata": {
        "colab": {
          "base_uri": "https://localhost:8080/"
        },
        "id": "E3FSOEDkNDRr",
        "outputId": "645f6dfc-8c44-4f18-a222-02109bb86735"
      },
      "execution_count": 10,
      "outputs": [
        {
          "output_type": "stream",
          "name": "stdout",
          "text": [
            "No Regularization (Simple Linear Regression):\n",
            "MAE: 6961.477813252376, MSE: 82010363.04430099, RMSE: 9055.957323458464, R2 Score: 0.8987266414328637\n"
          ]
        }
      ]
    },
    {
      "cell_type": "code",
      "source": [
        "from sklearn.linear_model import Lasso\n",
        "lasso_model = Lasso(alpha=1.0)\n",
        "lasso_model.fit(X_train, y_train)\n",
        "y_pred_lasso = lasso_model.predict(X_test)\n",
        "mae = mean_absolute_error(y_test, y_pred_lasso)\n",
        "mse = mean_squared_error(y_test, y_pred_lasso)\n",
        "rmse = np.sqrt(mse)\n",
        "r2 = r2_score(y_test, y_pred_lasso)\n",
        "print(\"Lasso Regression:\")\n",
        "print(f\"MAE: {mae}, MSE: {mse}, RMSE: {rmse}, R2 Score: {r2}\")"
      ],
      "metadata": {
        "colab": {
          "base_uri": "https://localhost:8080/"
        },
        "id": "1lZEEPo-NLtY",
        "outputId": "38f910c2-1c1b-41c2-d22a-7e8fba43915e"
      },
      "execution_count": 3,
      "outputs": [
        {
          "output_type": "stream",
          "name": "stdout",
          "text": [
            "L1 Regularization (Lasso Regression):\n",
            "MAE: 6961.5746884671735, MSE: 82004202.15414938, RMSE: 9055.617160312675, R2 Score: 0.8987342494230525\n"
          ]
        }
      ]
    },
    {
      "cell_type": "code",
      "source": [
        "from sklearn.linear_model import Ridge\n",
        "ridge_model = Ridge(alpha=1.0)\n",
        "ridge_model.fit(X_train, y_train)\n",
        "y_pred_ridge = ridge_model.predict(X_test)\n",
        "mae = mean_absolute_error(y_test, y_pred_ridge)\n",
        "mse = mean_squared_error(y_test, y_pred_ridge)\n",
        "rmse = np.sqrt(mse)\n",
        "r2 = r2_score(y_test, y_pred_ridge)\n",
        "print(\"Ridge Regression :\")\n",
        "print(f\"MAE: {mae}, MSE: {mse}, RMSE: {rmse}, R2 Score: {r2}\")"
      ],
      "metadata": {
        "colab": {
          "base_uri": "https://localhost:8080/"
        },
        "id": "kMstOFybNX9m",
        "outputId": "c261a493-b00b-452f-d86b-63dd8a4d11a2"
      },
      "execution_count": 11,
      "outputs": [
        {
          "output_type": "stream",
          "name": "stdout",
          "text": [
            "Ridge Regression:\n",
            "MAE: 6963.340034795974, MSE: 81887773.66036233, RMSE: 9049.186353499541, R2 Score: 0.8988780252113923\n"
          ]
        }
      ]
    }
  ]
}