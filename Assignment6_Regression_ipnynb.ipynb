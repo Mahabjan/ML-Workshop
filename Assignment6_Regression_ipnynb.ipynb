{
  "nbformat": 4,
  "nbformat_minor": 0,
  "metadata": {
    "colab": {
      "provenance": [],
      "authorship_tag": "ABX9TyPQ9HMe0pSa90GZ9jShosQ0",
      "include_colab_link": true
    },
    "kernelspec": {
      "name": "python3",
      "display_name": "Python 3"
    },
    "language_info": {
      "name": "python"
    }
  },
  "cells": [
    {
      "cell_type": "markdown",
      "metadata": {
        "id": "view-in-github",
        "colab_type": "text"
      },
      "source": [
        "<a href=\"https://colab.research.google.com/github/Mahabjan/ML-Workshop/blob/main/Assignment6_Regression_ipnynb.ipynb\" target=\"_parent\"><img src=\"https://colab.research.google.com/assets/colab-badge.svg\" alt=\"Open In Colab\"/></a>"
      ]
    },
    {
      "cell_type": "code",
      "execution_count": 3,
      "metadata": {
        "colab": {
          "base_uri": "https://localhost:8080/"
        },
        "id": "8K2wYy_uw8Lv",
        "outputId": "f972062c-f82e-4f9f-8128-cea422d0aa60"
      },
      "outputs": [
        {
          "output_type": "stream",
          "name": "stdout",
          "text": [
            "Multiple Linear Regression Results:\n",
            "MAE: 6979.152252370402\n",
            "MSE: 80926321.22295158\n",
            "RMSE: 8995.905803361415\n",
            "R2 Score: 0.9000653083037321\n"
          ]
        }
      ],
      "source": [
        "import pandas as pd\n",
        "import numpy as np\n",
        "from sklearn.model_selection import train_test_split\n",
        "from sklearn.linear_model import LinearRegression\n",
        "from sklearn.metrics import mean_absolute_error, mean_squared_error, r2_score\n",
        "data = pd.read_csv('/content/50_Startups.csv')\n",
        "X = data[['R&D Spend', 'Administration', 'Marketing Spend']]\n",
        "y = data['Profit']\n",
        "X_train, X_test, y_train, y_test = train_test_split(X, y, test_size=0.2, random_state=42)\n",
        "model = LinearRegression()\n",
        "model.fit(X_train, y_train)\n",
        "y_pred = model.predict(X_test)\n",
        "mae = mean_absolute_error(y_test, y_pred)\n",
        "mse = mean_squared_error(y_test, y_pred)\n",
        "rmse = np.sqrt(mse)\n",
        "r2 = r2_score(y_test, y_pred)\n",
        "print(\"Multiple Linear Regression Results:\")\n",
        "print(f\"MAE: {mae}\")\n",
        "print(f\"MSE: {mse}\")\n",
        "print(f\"RMSE: {rmse}\")\n",
        "print(f\"R2 Score: {r2}\")"
      ]
    },
    {
      "cell_type": "code",
      "source": [
        "from sklearn.linear_model import Lasso\n",
        "\n",
        "# Create and fit the Lasso model\n",
        "lasso = Lasso(alpha=0.1)  # Adjust alpha for regularization strength\n",
        "lasso.fit(X_train, y_train)\n",
        "\n",
        "# Make predictions\n",
        "y_pred_lasso = lasso.predict(X_test)\n",
        "\n",
        "# Calculate metrics\n",
        "mae_lasso = mean_absolute_error(y_test, y_pred_lasso)\n",
        "mse_lasso = mean_squared_error(y_test, y_pred_lasso)\n",
        "rmse_lasso = np.sqrt(mse_lasso)\n",
        "r2_lasso = r2_score(y_test, y_pred_lasso)\n",
        "\n",
        "print(\"Lasso Regression Results:\")\n",
        "print(f\"MAE: {mae_lasso}\")\n",
        "print(f\"MSE: {mse_lasso}\")\n",
        "print(f\"RMSE: {rmse_lasso}\")\n",
        "print(f\"R2 Score: {r2_lasso}\")"
      ],
      "metadata": {
        "colab": {
          "base_uri": "https://localhost:8080/"
        },
        "id": "K2nU8KgjzWqC",
        "outputId": "f7fa95a2-4c71-49fe-b182-d607229e1956"
      },
      "execution_count": 4,
      "outputs": [
        {
          "output_type": "stream",
          "name": "stdout",
          "text": [
            "Lasso Regression Results:\n",
            "MAE: 6979.152250714319\n",
            "MSE: 80926321.1772403\n",
            "RMSE: 8995.905800820743\n",
            "R2 Score: 0.9000653083601803\n"
          ]
        }
      ]
    },
    {
      "cell_type": "code",
      "source": [
        "from sklearn.linear_model import Ridge\n",
        "\n",
        "# Create and fit the Ridge model\n",
        "ridge = Ridge(alpha=0.1)  # Adjust alpha for regularization strength\n",
        "ridge.fit(X_train, y_train)\n",
        "\n",
        "# Make predictions\n",
        "y_pred_ridge = ridge.predict(X_test)\n",
        "\n",
        "# Calculate metrics\n",
        "mae_ridge = mean_absolute_error(y_test, y_pred_ridge)\n",
        "mse_ridge = mean_squared_error(y_test, y_pred_ridge)\n",
        "rmse_ridge = np.sqrt(mse_ridge)\n",
        "r2_ridge = r2_score(y_test, y_pred_ridge)\n",
        "\n",
        "print(\"Ridge Regression Results:\")\n",
        "print(f\"MAE: {mae_ridge}\")\n",
        "print(f\"MSE: {mse_ridge}\")\n",
        "print(f\"RMSE: {rmse_ridge}\")\n",
        "print(f\"R2 Score: {r2_ridge}\")"
      ],
      "metadata": {
        "colab": {
          "base_uri": "https://localhost:8080/"
        },
        "id": "l6eHax8SziBe",
        "outputId": "fd59f7a4-14e0-4c66-a868-15982bceb185"
      },
      "execution_count": 5,
      "outputs": [
        {
          "output_type": "stream",
          "name": "stdout",
          "text": [
            "Ridge Regression Results:\n",
            "MAE: 6979.152252376222\n",
            "MSE: 80926321.22302528\n",
            "RMSE: 8995.905803365511\n",
            "R2 Score: 0.9000653083036411\n"
          ]
        }
      ]
    }
  ]
}