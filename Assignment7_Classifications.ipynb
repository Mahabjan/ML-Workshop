{
  "nbformat": 4,
  "nbformat_minor": 0,
  "metadata": {
    "colab": {
      "provenance": [],
      "authorship_tag": "ABX9TyM9vWd54pFe59NP61G9L2JE",
      "include_colab_link": true
    },
    "kernelspec": {
      "name": "python3",
      "display_name": "Python 3"
    },
    "language_info": {
      "name": "python"
    }
  },
  "cells": [
    {
      "cell_type": "markdown",
      "metadata": {
        "id": "view-in-github",
        "colab_type": "text"
      },
      "source": [
        "<a href=\"https://colab.research.google.com/github/Mahabjan/ML-Workshop/blob/main/Assignment7_Classifications.ipynb\" target=\"_parent\"><img src=\"https://colab.research.google.com/assets/colab-badge.svg\" alt=\"Open In Colab\"/></a>"
      ]
    },
    {
      "cell_type": "code",
      "execution_count": 2,
      "metadata": {
        "id": "QGD8F3mRC1_1"
      },
      "outputs": [],
      "source": [
        "import pandas as pd\n",
        "from sklearn.model_selection import train_test_split\n",
        "from sklearn.preprocessing import StandardScaler\n",
        "from sklearn.metrics import classification_report\n",
        "file_path = '/content/50_Startups.csv'\n",
        "data = pd.read_csv(file_path)\n",
        "threshold = data['Profit'].median()\n",
        "data['Profit_Class'] = (data['Profit'] > threshold).astype(int)\n",
        "data.drop(columns=['Profit'], inplace=True)\n",
        "data_encoded = pd.get_dummies(data, columns=['State'], drop_first=True)\n",
        "X = data_encoded.drop(columns=['Profit_Class'])\n",
        "y = data_encoded['Profit_Class']\n",
        "X_train, X_test, y_train, y_test = train_test_split(X, y, test_size=0.2, random_state=42, stratify=y)"
      ]
    },
    {
      "cell_type": "code",
      "source": [
        "from sklearn.linear_model import LogisticRegression\n",
        "from sklearn.metrics import accuracy_score, precision_score, recall_score, f1_score\n",
        "scaler = StandardScaler()\n",
        "X_train_scaled = scaler.fit_transform(X_train)\n",
        "X_test_scaled = scaler.transform(X_test)\n",
        "logistic_model = LogisticRegression(random_state=42)\n",
        "logistic_model.fit(X_train_scaled, y_train)\n",
        "y_pred_lr = logistic_model.predict(X_test_scaled)\n",
        "print(\"Logistic Regression Results:\")\n",
        "print(f\"Accuracy: {accuracy_score(y_test, y_pred_lr):.2f}\")\n",
        "print(f\"Precision: {precision_score(y_test, y_pred_lr, average='weighted'):.2f}\")\n",
        "print(f\"Recall: {recall_score(y_test, y_pred_lr, average='weighted'):.2f}\")\n",
        "print(f\"F1-Score: {f1_score(y_test, y_pred_lr, average='weighted'):.2f}\")"
      ],
      "metadata": {
        "colab": {
          "base_uri": "https://localhost:8080/"
        },
        "id": "d7Ou_QlDElkB",
        "outputId": "57761bd9-6776-4e6d-8b98-a280fa75c70d"
      },
      "execution_count": 8,
      "outputs": [
        {
          "output_type": "stream",
          "name": "stdout",
          "text": [
            "Logistic Regression Results:\n",
            "Accuracy: 0.90\n",
            "Precision: 0.92\n",
            "Recall: 0.90\n",
            "F1-Score: 0.90\n"
          ]
        }
      ]
    },
    {
      "cell_type": "code",
      "source": [
        "from sklearn.naive_bayes import GaussianNB\n",
        "naive_bayes_model = GaussianNB()\n",
        "naive_bayes_model.fit(X_train, y_train)\n",
        "y_pred_nb = naive_bayes_model.predict(X_test)\n",
        "print(\"Naive Bayes Results:\")\n",
        "print(f\"Accuracy: {accuracy_score(y_test, y_pred_nb):.2f}\")\n",
        "print(f\"Precision: {precision_score(y_test, y_pred_nb, average='weighted'):.2f}\")\n",
        "print(f\"Recall: {recall_score(y_test, y_pred_nb, average='weighted'):.2f}\")\n",
        "print(f\"F1-Score: {f1_score(y_test, y_pred_nb, average='weighted'):.2f}\")"
      ],
      "metadata": {
        "colab": {
          "base_uri": "https://localhost:8080/"
        },
        "id": "qM1vGkzBE5vb",
        "outputId": "8b09b200-9975-4949-f291-b874448d6cc0"
      },
      "execution_count": 9,
      "outputs": [
        {
          "output_type": "stream",
          "name": "stdout",
          "text": [
            "Naive Bayes Results:\n",
            "Accuracy: 0.90\n",
            "Precision: 0.92\n",
            "Recall: 0.90\n",
            "F1-Score: 0.90\n"
          ]
        }
      ]
    },
    {
      "cell_type": "code",
      "source": [
        "from sklearn.neighbors import KNeighborsClassifier\n",
        "scaler = StandardScaler()\n",
        "X_train_scaled = scaler.fit_transform(X_train)\n",
        "X_test_scaled = scaler.transform(X_test)\n",
        "knn_model = KNeighborsClassifier(n_neighbors=3)\n",
        "knn_model.fit(X_train_scaled, y_train)\n",
        "y_pred_knn = knn_model.predict(X_test_scaled)\n",
        "print(\"KNN Results:\")\n",
        "print(f\"Accuracy: {accuracy_score(y_test, y_pred_knn):.2f}\")\n",
        "print(f\"Precision: {precision_score(y_test, y_pred_knn, average='weighted'):.2f}\")\n",
        "print(f\"Recall: {recall_score(y_test, y_pred_knn, average='weighted'):.2f}\")\n",
        "print(f\"F1-Score: {f1_score(y_test, y_pred_knn, average='weighted'):.2f}\")"
      ],
      "metadata": {
        "colab": {
          "base_uri": "https://localhost:8080/"
        },
        "id": "MEHWqB-mFGcj",
        "outputId": "34d7295b-bd16-4c7d-bc76-821fa2ab1f55"
      },
      "execution_count": 10,
      "outputs": [
        {
          "output_type": "stream",
          "name": "stdout",
          "text": [
            "KNN Results:\n",
            "Accuracy: 0.90\n",
            "Precision: 0.92\n",
            "Recall: 0.90\n",
            "F1-Score: 0.90\n"
          ]
        }
      ]
    },
    {
      "cell_type": "code",
      "source": [
        "from sklearn.tree import DecisionTreeClassifier\n",
        "decision_tree_model = DecisionTreeClassifier(random_state=42)\n",
        "decision_tree_model.fit(X_train, y_train)\n",
        "y_pred_dt = decision_tree_model.predict(X_test)\n",
        "print(\"Decision Tree Results:\")\n",
        "print(f\"Accuracy: {accuracy_score(y_test, y_pred_dt):.2f}\")\n",
        "print(f\"Precision: {precision_score(y_test, y_pred_dt, average='weighted'):.2f}\")\n",
        "print(f\"Recall: {recall_score(y_test, y_pred_dt, average='weighted'):.2f}\")\n",
        "print(f\"F1-Score: {f1_score(y_test, y_pred_dt, average='weighted'):.2f}\")"
      ],
      "metadata": {
        "colab": {
          "base_uri": "https://localhost:8080/"
        },
        "id": "SfcmIaL1FQHJ",
        "outputId": "5c7a9fd2-8b4d-4054-db64-40045cec14d9"
      },
      "execution_count": 11,
      "outputs": [
        {
          "output_type": "stream",
          "name": "stdout",
          "text": [
            "Decision Tree Results:\n",
            "Accuracy: 1.00\n",
            "Precision: 1.00\n",
            "Recall: 1.00\n",
            "F1-Score: 1.00\n"
          ]
        }
      ]
    },
    {
      "cell_type": "code",
      "source": [
        "from sklearn.svm import SVC\n",
        "scaler = StandardScaler()\n",
        "X_train_scaled = scaler.fit_transform(X_train)\n",
        "X_test_scaled = scaler.transform(X_test)\n",
        "svc_model = SVC(random_state=42)\n",
        "svc_model.fit(X_train_scaled, y_train)\n",
        "y_pred_svc = svc_model.predict(X_test_scaled)\n",
        "print(\"Support Vector Classifier Results:\")\n",
        "print(f\"Accuracy: {accuracy_score(y_test, y_pred_svc):.2f}\")\n",
        "print(f\"Precision: {precision_score(y_test, y_pred_svc, average='weighted'):.2f}\")\n",
        "print(f\"Recall: {recall_score(y_test, y_pred_svc, average='weighted'):.2f}\")\n",
        "print(f\"F1-Score: {f1_score(y_test, y_pred_svc, average='weighted'):.2f}\")"
      ],
      "metadata": {
        "colab": {
          "base_uri": "https://localhost:8080/"
        },
        "id": "xUU3K33QFYHY",
        "outputId": "b62d259c-a62c-4368-b2df-55d5cdf8c4c2"
      },
      "execution_count": 12,
      "outputs": [
        {
          "output_type": "stream",
          "name": "stdout",
          "text": [
            "SVC Results:\n",
            "Accuracy: 0.90\n",
            "Precision: 0.92\n",
            "Recall: 0.90\n",
            "F1-Score: 0.90\n"
          ]
        }
      ]
    }
  ]
}